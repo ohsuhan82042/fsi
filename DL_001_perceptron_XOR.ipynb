{
 "cells": [
  {
   "cell_type": "markdown",
   "metadata": {
    "id": "U0wRIoKBgCu7"
   },
   "source": [
    "## 실습 개요\n",
    "\n",
    "퍼셉트론은 인공 신경망의 기본 단위로, 단순한 선형 이진 분류 모델입니다. 퍼셉트론의 구조와 학습 원리를 이해하는 것은 딥러닝의 기초를 다지는 데 중요합니다. 이번 실습에서는 퍼셉트론의 구조를 설명하고, 구글 코랩에서 이를 구현하여 XOR 문제를 해결하는 코드를 작성합니다.\n",
    "\n",
    "---\n",
    "\n",
    "### 퍼셉트론 구조와 원리\n",
    "\n",
    "퍼셉트론은 입력값과 가중치의 선형 조합에 활성화 함수를 적용하여 출력을 생성하는 간단한 모델입니다. 퍼셉트론은 다음과 같은 수학적 표현을 가집니다:\n",
    "\n",
    "$$\n",
    "y = \\phi(\\sum_{i=1}^n w_i x_i + b)\n",
    "$$\n",
    "\n",
    "여기서 $y$는 출력값, $\\phi$는 활성화 함수, $w_i$는 가중치, $x_i$는 입력값, $b$는 바이어스입니다."
   ]
  },
  {
   "cell_type": "markdown",
   "metadata": {
    "id": "H8OUCcfkiUbQ"
   },
   "source": [
    "## 단층 퍼셉트론 : XOR 문제 해결 불가"
   ]
  },
  {
   "cell_type": "code",
   "execution_count": 2,
   "metadata": {
    "executionInfo": {
     "elapsed": 714,
     "status": "ok",
     "timestamp": 1722399288838,
     "user": {
      "displayName": "Seung Hwan Oh (아코)",
      "userId": "03190881954585654682"
     },
     "user_tz": -540
    },
    "id": "gTnDgdDqgLjQ"
   },
   "outputs": [],
   "source": [
    "## 1. 라이브러리 불러오기\n",
    "import numpy as np\n",
    "\n",
    "## 2. 활성화 함수 정의\n",
    "def step_function(x):\n",
    "    return np.where(x >= 0, 1, 0)\n",
    "\n",
    "## 3. 퍼셉트론 클래스 정의\n",
    "class Perceptron:\n",
    "    def __init__(self, input_size, lr=0.1):\n",
    "        self.weights = np.zeros(input_size + 1)  # 입력 크기 + 1 만큼의 가중치를 0으로 초기화 (바이어스 포함)\n",
    "        self.lr = lr  # 학습률(learning rate)을 설정\n",
    "\n",
    "    def predict(self, x):\n",
    "        x = np.insert(x, 0, 1)  # 입력 데이터 x의 첫 번째 위치에 1을 삽입하여 바이어스 항 추가\n",
    "        weighted_sum = np.dot(x, self.weights)  # 입력 데이터와 가중치의 내적을 계산하여 가중 합 계산\n",
    "        return step_function(weighted_sum)  # 가중 합을 계단 함수에 적용하여 예측 결과 반환\n",
    "\n",
    "    def train(self, X, y, epochs=10):\n",
    "        for _ in range(epochs):  # 지정된 에포크 수만큼 반복\n",
    "            for i in range(len(X)):  # 각 데이터 포인트에 대해 반복\n",
    "                prediction = self.predict(X[i])  # 현재 데이터 포인트에 대한 예측값 계산\n",
    "                # 가중치 업데이트: 현재 데이터 포인트의 정답과 예측값의 차이에 학습률을 곱해 가중치 조정\n",
    "                self.weights += self.lr * (y[i] - prediction) * np.insert(X[i], 0, 1)"
   ]
  },
  {
   "cell_type": "markdown",
   "metadata": {
    "id": "OYRtZeTelD36"
   },
   "source": [
    "### 1. AND 연산"
   ]
  },
  {
   "cell_type": "code",
   "execution_count": 24,
   "metadata": {
    "colab": {
     "base_uri": "https://localhost:8080/"
    },
    "executionInfo": {
     "elapsed": 310,
     "status": "ok",
     "timestamp": 1722399925364,
     "user": {
      "displayName": "Seung Hwan Oh (아코)",
      "userId": "03190881954585654682"
     },
     "user_tz": -540
    },
    "id": "isT8ju71lCEy",
    "outputId": "a6d9d7b1-451c-41cc-ebca-78a0b6aa75c9"
   },
   "outputs": [
    {
     "name": "stdout",
     "output_type": "stream",
     "text": [
      "입력: [0 0], 예측 출력: 0\n",
      "입력: [0 1], 예측 출력: 0\n",
      "입력: [1 0], 예측 출력: 0\n",
      "입력: [1 1], 예측 출력: 1\n"
     ]
    }
   ],
   "source": [
    "## 데이터셋 준비\n",
    "X = np.array([\n",
    "    [0, 0],\n",
    "    [0, 1],\n",
    "    [1, 0],\n",
    "    [1, 1]\n",
    "])\n",
    "y = np.array([0, 0, 0, 1])  # AND 문제 정답\n",
    "\n",
    "## 퍼셉트론 초기화 및 학습\n",
    "AND_perceptron = Perceptron(input_size=2)\n",
    "AND_perceptron.train(X, y, epochs=100)\n",
    "\n",
    "## 예측 결과 확인\n",
    "for x in X:\n",
    "    print(f\"입력: {x}, 예측 출력: {AND_perceptron.predict(x)}\")"
   ]
  },
  {
   "cell_type": "code",
   "execution_count": 25,
   "metadata": {
    "colab": {
     "base_uri": "https://localhost:8080/",
     "height": 472
    },
    "executionInfo": {
     "elapsed": 892,
     "status": "ok",
     "timestamp": 1722399929806,
     "user": {
      "displayName": "Seung Hwan Oh (아코)",
      "userId": "03190881954585654682"
     },
     "user_tz": -540
    },
    "id": "n3g7Vyk6lTvy",
    "outputId": "99de68af-e4f9-488e-df51-74a8cba0f2b2"
   },
   "outputs": [
    {
     "data": {
      "image/png": "[encoded data removed]",
      "text/plain": [
       "<Figure size 640x480 with 1 Axes>"
      ]
     },
     "metadata": {},
     "output_type": "display_data"
    }
   ],
   "source": [
    "## 예측 결과 시각화\n",
    "import matplotlib.pyplot as plt\n",
    "\n",
    "# 학습 데이터와 예측 결과를 플롯에 그리기\n",
    "def plot_prediction(perceptron, X):\n",
    "\n",
    "    for x in X:\n",
    "        plt.scatter(x[0], x[1], color='red' if perceptron.predict(x) == 0 else 'blue')\n",
    "\n",
    "    # 결정 경계 시각화\n",
    "    xx, yy = np.meshgrid(np.linspace(-0.1, 1.1, 100), np.linspace(-0.1, 1.1, 100))\n",
    "    Z = np.array([perceptron.predict(np.array([xx_i, yy_i])) for xx_i, yy_i in zip(xx.ravel(), yy.ravel())])\n",
    "    Z = Z.reshape(xx.shape)\n",
    "\n",
    "    plt.contourf(xx, yy, Z, alpha=0.1, cmap=plt.cm.Paired)\n",
    "    plt.xlabel('x1')\n",
    "    plt.ylabel('x2')\n",
    "    plt.title('Perceptron XOR Classification')\n",
    "    plt.show()\n",
    "\n",
    "\n",
    "plot_prediction(AND_perceptron, X)"
   ]
  },
  {
   "cell_type": "markdown",
   "metadata": {
    "id": "UbNa_3Mp_jzW"
   },
   "source": [
    "### 2. OR 연산"
   ]
  },
  {
   "cell_type": "code",
   "execution_count": 26,
   "metadata": {
    "colab": {
     "base_uri": "https://localhost:8080/"
    },
    "executionInfo": {
     "elapsed": 292,
     "status": "ok",
     "timestamp": 1722399931848,
     "user": {
      "displayName": "Seung Hwan Oh (아코)",
      "userId": "03190881954585654682"
     },
     "user_tz": -540
    },
    "id": "ibB4cSZw_jzl",
    "outputId": "1ea1fb00-63b3-40ce-eac9-7381d8cc8e88"
   },
   "outputs": [
    {
     "name": "stdout",
     "output_type": "stream",
     "text": [
      "입력: [0 0], 예측 출력: 0\n",
      "입력: [0 1], 예측 출력: 1\n",
      "입력: [1 0], 예측 출력: 1\n",
      "입력: [1 1], 예측 출력: 1\n"
     ]
    }
   ],
   "source": [
    "## 데이터셋 준비\n",
    "X = np.array([\n",
    "    [0, 0],\n",
    "    [0, 1],\n",
    "    [1, 0],\n",
    "    [1, 1]\n",
    "])\n",
    "y = np.array([0, 1, 1, 1])  # OR 문제 정답\n",
    "\n",
    "## 퍼셉트론 초기화 및 학습\n",
    "OR_perceptron = Perceptron(input_size=2)\n",
    "OR_perceptron.train(X, y, epochs=100)\n",
    "\n",
    "## 예측 결과 확인\n",
    "for x in X:\n",
    "    print(f\"입력: {x}, 예측 출력: {OR_perceptron.predict(x)}\")"
   ]
  },
  {
   "cell_type": "code",
   "execution_count": 27,
   "metadata": {
    "colab": {
     "base_uri": "https://localhost:8080/",
     "height": 472
    },
    "executionInfo": {
     "elapsed": 956,
     "status": "ok",
     "timestamp": 1722399934117,
     "user": {
      "displayName": "Seung Hwan Oh (아코)",
      "userId": "03190881954585654682"
     },
     "user_tz": -540
    },
    "id": "JwxcWNxO_jzm",
    "outputId": "e02cf85c-cb05-4361-8271-c47e6fab4c58"
   },
   "outputs": [
    {
     "data": {
      "image/png": "[encoded data removed]",
      "text/plain": [
       "<Figure size 640x480 with 1 Axes>"
      ]
     },
     "metadata": {},
     "output_type": "display_data"
    }
   ],
   "source": [
    "## 예측 결과 시각화\n",
    "plot_prediction(OR_perceptron, X)"
   ]
  },
  {
   "cell_type": "markdown",
   "metadata": {
    "id": "2IAClmay__ZK"
   },
   "source": [
    "### 3. XOR 연산"
   ]
  },
  {
   "cell_type": "code",
   "execution_count": 28,
   "metadata": {
    "colab": {
     "base_uri": "https://localhost:8080/"
    },
    "executionInfo": {
     "elapsed": 410,
     "status": "ok",
     "timestamp": 1722399941905,
     "user": {
      "displayName": "Seung Hwan Oh (아코)",
      "userId": "03190881954585654682"
     },
     "user_tz": -540
    },
    "id": "_hjqLcd0ADez",
    "outputId": "be69e61b-2314-4cbc-a330-2050c184e6ee"
   },
   "outputs": [
    {
     "name": "stdout",
     "output_type": "stream",
     "text": [
      "입력: [0 0], 예측 출력: 1\n",
      "입력: [0 1], 예측 출력: 1\n",
      "입력: [1 0], 예측 출력: 0\n",
      "입력: [1 1], 예측 출력: 0\n"
     ]
    }
   ],
   "source": [
    "## 데이터셋 준비\n",
    "X = np.array([\n",
    "    [0, 0],\n",
    "    [0, 1],\n",
    "    [1, 0],\n",
    "    [1, 1]\n",
    "])\n",
    "y = np.array([0, 1, 1, 0])  # XOR 문제 정답\n",
    "\n",
    "## 퍼셉트론 초기화 및 학습\n",
    "XOR_perceptron = Perceptron(input_size=2)\n",
    "XOR_perceptron.train(X, y, epochs=100)\n",
    "\n",
    "## 예측 결과 확인\n",
    "for x in X:\n",
    "    print(f\"입력: {x}, 예측 출력: {XOR_perceptron.predict(x)}\")"
   ]
  },
  {
   "cell_type": "code",
   "execution_count": 29,
   "metadata": {
    "colab": {
     "base_uri": "https://localhost:8080/",
     "height": 472
    },
    "executionInfo": {
     "elapsed": 989,
     "status": "ok",
     "timestamp": 1722399945119,
     "user": {
      "displayName": "Seung Hwan Oh (아코)",
      "userId": "03190881954585654682"
     },
     "user_tz": -540
    },
    "id": "44Bfob3hgLga",
    "outputId": "0b42f9e7-52b0-4a53-dfd3-fb3dd7fbbc96"
   },
   "outputs": [
    {
     "data": {
      "image/png": "[encoded data removed]",
      "text/plain": [
       "<Figure size 640x480 with 1 Axes>"
      ]
     },
     "metadata": {},
     "output_type": "display_data"
    }
   ],
   "source": [
    "## 예측 결과 시각화\n",
    "plot_prediction(XOR_perceptron, X)"
   ]
  },
  {
   "cell_type": "markdown",
   "metadata": {
    "id": "ER67iq9NjHGO"
   },
   "source": [
    "## 다층 퍼셉트론(MLP): XOR 문제 해결"
   ]
  },
  {
   "cell_type": "markdown",
   "metadata": {
    "id": "ejzvAKfCC9M3"
   },
   "source": [
    "`(1) NAND + OR`"
   ]
  },
  {
   "cell_type": "code",
   "execution_count": 31,
   "metadata": {
    "colab": {
     "base_uri": "https://localhost:8080/"
    },
    "executionInfo": {
     "elapsed": 363,
     "status": "ok",
     "timestamp": 1722400095576,
     "user": {
      "displayName": "Seung Hwan Oh (아코)",
      "userId": "03190881954585654682"
     },
     "user_tz": -540
    },
    "id": "OBj57CdMAY8O",
    "outputId": "4c0a3b9b-7716-4582-b55d-6e6fa33988b2"
   },
   "outputs": [
    {
     "name": "stdout",
     "output_type": "stream",
     "text": [
      "입력: [0 0], 예측 출력: 0\n",
      "입력: [0 1], 예측 출력: 1\n",
      "입력: [1 0], 예측 출력: 1\n",
      "입력: [1 1], 예측 출력: 0\n"
     ]
    }
   ],
   "source": [
    "def XOR_network(x):\n",
    "    # NAND\n",
    "    h1 = 0 if AND_perceptron.predict(x) == 1 else 1\n",
    "\n",
    "    # OR\n",
    "    h2 = OR_perceptron.predict(x)\n",
    "\n",
    "    return AND_perceptron.predict([h1, h2])\n",
    "\n",
    "## 예측 결과 확인\n",
    "for x in X:\n",
    "    print(f\"입력: {x}, 예측 출력: {XOR_network(x)}\")"
   ]
  },
  {
   "cell_type": "markdown",
   "metadata": {
    "id": "FbjmyP_dDCcA"
   },
   "source": [
    "`(2) MLP`"
   ]
  },
  {
   "cell_type": "code",
   "execution_count": 32,
   "metadata": {
    "colab": {
     "base_uri": "https://localhost:8080/"
    },
    "executionInfo": {
     "elapsed": 1707,
     "status": "ok",
     "timestamp": 1722400151722,
     "user": {
      "displayName": "Seung Hwan Oh (아코)",
      "userId": "03190881954585654682"
     },
     "user_tz": -540
    },
    "id": "Azjnyr9MgLdh",
    "outputId": "f90df555-8cbc-4f46-ed72-d55f6c83c2d2"
   },
   "outputs": [
    {
     "name": "stdout",
     "output_type": "stream",
     "text": [
      "입력: [0 0], 예측 출력: [0.2009832]\n",
      "입력: [0 1], 예측 출력: [0.73792779]\n",
      "입력: [1 0], 예측 출력: [0.73620976]\n",
      "입력: [1 1], 예측 출력: [0.32986325]\n"
     ]
    }
   ],
   "source": [
    "## 활성화 함수 정의\n",
    "def sigmoid(x):\n",
    "    return 1 / (1 + np.exp(-x))\n",
    "\n",
    "def sigmoid_derivative(x):\n",
    "    return x * (1 - x)\n",
    "\n",
    "## MLP 클래스 정의\n",
    "class MLP:\n",
    "    def __init__(self, input_size, hidden_size, output_size, lr=0.1):\n",
    "        # 가중치 초기화\n",
    "        self.weights_input_hidden = np.random.rand(input_size, hidden_size)  # 입력층에서 은닉층으로 가는 가중치를 무작위로 초기화\n",
    "        self.weights_hidden_output = np.random.rand(hidden_size, output_size)  # 은닉층에서 출력층으로 가는 가중치를 무작위로 초기화\n",
    "        self.lr = lr  # 학습률(learning rate)을 설정\n",
    "\n",
    "    def predict(self, x):\n",
    "        # 순방향 전파\n",
    "        self.hidden_input = np.dot(x, self.weights_input_hidden)  # 입력 데이터와 입력층-은닉층 가중치의 내적 계산\n",
    "        self.hidden_output = sigmoid(self.hidden_input)  # 은닉층 활성화 함수를 적용하여 은닉층 출력 계산\n",
    "        self.final_input = np.dot(self.hidden_output, self.weights_hidden_output)  # 은닉층 출력과 은닉층-출력층 가중치의 내적 계산\n",
    "        self.final_output = sigmoid(self.final_input)  # 출력층 활성화 함수를 적용하여 최종 출력 계산\n",
    "        return self.final_output  # 최종 출력 반환\n",
    "\n",
    "    def train(self, X, y, epochs=10000):\n",
    "        for _ in range(epochs):  # 지정된 에포크 수만큼 반복\n",
    "            for i in range(len(X)):  # 각 데이터 포인트에 대해 반복\n",
    "                # 순방향 전파\n",
    "                x = X[i].reshape(1, -1)  # 현재 데이터 포인트를 행 벡터로 변환\n",
    "                target = y[i].reshape(1, -1)  # 현재 타깃 값을 행 벡터로 변환\n",
    "\n",
    "                self.hidden_input = np.dot(x, self.weights_input_hidden)  # 입력 데이터와 입력층-은닉층 가중치의 내적 계산\n",
    "                self.hidden_output = sigmoid(self.hidden_input)  # 은닉층 활성화 함수를 적용하여 은닉층 출력 계산\n",
    "                self.final_input = np.dot(self.hidden_output, self.weights_hidden_output)  # 은닉층 출력과 은닉층-출력층 가중치의 내적 계산\n",
    "                self.final_output = sigmoid(self.final_input)  # 출력층 활성화 함수를 적용하여 최종 출력 계산\n",
    "\n",
    "                # 역방향 전파\n",
    "                output_error = target - self.final_output  # 출력 오차 계산 (목표값 - 실제 출력값)\n",
    "                output_delta = output_error * sigmoid_derivative(self.final_output)  # 출력 오차에 활성화 함수의 미분 값을 곱하여 출력층 델타 계산\n",
    "\n",
    "                hidden_error = output_delta.dot(self.weights_hidden_output.T)  # 출력층 델타와 은닉층-출력층 가중치의 내적을 계산하여 은닉층 오차 계산\n",
    "                hidden_delta = hidden_error * sigmoid_derivative(self.hidden_output)  # 은닉층 오차에 활성화 함수의 미분 값을 곱하여 은닉층 델타 계산\n",
    "\n",
    "                # 가중치 업데이트\n",
    "                self.weights_hidden_output += self.hidden_output.T.dot(output_delta) * self.lr  # 은닉층-출력층 가중치를 은닉층 출력과 출력층 델타의 내적에 학습률을 곱한 값으로 업데이트\n",
    "                self.weights_input_hidden += x.T.dot(hidden_delta) * self.lr  # 입력층-은닉층 가중치를 입력 데이터와 은닉층 델타의 내적에 학습률을 곱한 값으로 업데이트\n",
    "\n",
    "\n",
    "## 데이터셋 준비\n",
    "X = np.array([\n",
    "    [0, 0],\n",
    "    [0, 1],\n",
    "    [1, 0],\n",
    "    [1, 1]\n",
    "])\n",
    "y = np.array([[0], [1], [1], [0]])  # XOR 문제 정답\n",
    "\n",
    "## MLP 초기화 및 학습\n",
    "mlp = MLP(input_size=2, hidden_size=2, output_size=1)\n",
    "mlp.train(X, y, epochs=10000)\n",
    "\n",
    "## 예측 결과 확인\n",
    "for x in X:\n",
    "    print(f\"입력: {x}, 예측 출력: {mlp.predict(x)}\")"
   ]
  },
  {
   "cell_type": "code",
   "execution_count": 33,
   "metadata": {
    "colab": {
     "base_uri": "https://localhost:8080/",
     "height": 472
    },
    "executionInfo": {
     "elapsed": 1295,
     "status": "ok",
     "timestamp": 1722400172444,
     "user": {
      "displayName": "Seung Hwan Oh (아코)",
      "userId": "03190881954585654682"
     },
     "user_tz": -540
    },
    "id": "jf3kwzw6gLLV",
    "outputId": "8cf2edc2-6d49-4a20-cf11-cc311f9892a3"
   },
   "outputs": [
    {
     "data": {
      "image/png": "[encoded data removed]",
      "text/plain": [
       "<Figure size 640x480 with 1 Axes>"
      ]
     },
     "metadata": {},
     "output_type": "display_data"
    }
   ],
   "source": [
    "## 예측 결과 시각화\n",
    "plot_prediction(mlp, X)"
   ]
  }
 ],
 "metadata": {
  "colab": {
   "provenance": []
  },
  "kernelspec": {
   "display_name": "Python 3 (ipykernel)",
   "language": "python",
   "name": "python3"
  },
  "language_info": {
   "codemirror_mode": {
    "name": "ipython",
    "version": 3
   },
   "file_extension": ".py",
   "mimetype": "text/x-python",
   "name": "python",
   "nbconvert_exporter": "python",
   "pygments_lexer": "ipython3",
   "version": "3.12.4"
  }
 },
 "nbformat": 4,
 "nbformat_minor": 4
}

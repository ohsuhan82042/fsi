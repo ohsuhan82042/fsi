{
 "cells": [
  {
   "cell_type": "markdown",
   "metadata": {
    "id": "Agvv7QQtUsvA"
   },
   "source": [
    "# 텐서플로 임포트"
   ]
  },
  {
   "cell_type": "code",
   "execution_count": 1,
   "metadata": {
    "colab": {
     "base_uri": "https://localhost:8080/"
    },
    "executionInfo": {
     "elapsed": 7859,
     "status": "ok",
     "timestamp": 1722471351708,
     "user": {
      "displayName": "Seung Hwan Oh (아코)",
      "userId": "03190881954585654682"
     },
     "user_tz": -540
    },
    "id": "CRvUrAj1UqTY",
    "outputId": "05b1e5de-582b-4518-b02d-ca84de32ad87"
   },
   "outputs": [
    {
     "name": "stdout",
     "output_type": "stream",
     "text": [
      "2.17.0\n"
     ]
    }
   ],
   "source": [
    "import tensorflow as tf\n",
    "print(tf.__version__)"
   ]
  },
  {
   "cell_type": "markdown",
   "metadata": {
    "id": "9hGCylscU2VT"
   },
   "source": [
    "# 선형 회귀 모델"
   ]
  },
  {
   "cell_type": "code",
   "execution_count": 12,
   "metadata": {
    "colab": {
     "base_uri": "https://localhost:8080/"
    },
    "executionInfo": {
     "elapsed": 6,
     "status": "ok",
     "timestamp": 1722471351708,
     "user": {
      "displayName": "Seung Hwan Oh (아코)",
      "userId": "03190881954585654682"
     },
     "user_tz": -540
    },
    "id": "4mrbA_7GU1Z9",
    "outputId": "7b4c62fa-57e8-4305-d464-6a641c95eb2c"
   },
   "outputs": [
    {
     "name": "stdout",
     "output_type": "stream",
     "text": [
      "(10, 1) (10,)\n"
     ]
    },
    {
     "data": {
      "text/plain": [
       "array([ -2,  32, -10,   5,   1,  23,  -1,  -4, -24, -13])"
      ]
     },
     "execution_count": 12,
     "metadata": {},
     "output_type": "execute_result"
    }
   ],
   "source": [
    "import pandas as pd\n",
    "import numpy as np\n",
    "\n",
    "x = [-3,  31,  -11,  4,  0,  22, -2, -5, -25, -14]\n",
    "y = [ -2,   32,   -10,   5,  1,   23,  -1,  -4, -24,  -13]\n",
    "\n",
    "X_train = np.array(x).reshape(-1, 1)\n",
    "y_train = np.array(y)\n",
    "\n",
    "print(X_train.shape, y_train.shape)"
   ]
  },
  {
   "cell_type": "code",
   "execution_count": 14,
   "metadata": {
    "colab": {
     "base_uri": "https://localhost:8080/"
    },
    "executionInfo": {
     "elapsed": 1180,
     "status": "ok",
     "timestamp": 1722471363820,
     "user": {
      "displayName": "Seung Hwan Oh (아코)",
      "userId": "03190881954585654682"
     },
     "user_tz": -540
    },
    "id": "9DitxBZyU73g",
    "outputId": "474d1d39-3dab-4964-ad67-3535b591d437"
   },
   "outputs": [
    {
     "name": "stderr",
     "output_type": "stream",
     "text": [
      "C:\\Users\\fsiedu\\anaconda3\\Lib\\site-packages\\keras\\src\\layers\\core\\dense.py:87: UserWarning: Do not pass an `input_shape`/`input_dim` argument to a layer. When using Sequential models, prefer using an `Input(shape)` object as the first layer in the model instead.\n",
      "  super().__init__(activity_regularizer=activity_regularizer, **kwargs)\n"
     ]
    }
   ],
   "source": [
    "from tensorflow.keras import Sequential\n",
    "from tensorflow.keras.layers import Dense\n",
    "\n",
    "model = Sequential()\n",
    "model.add(Dense(units=1, activation='linear', input_dim=1))\n",
    "#unit layer 갯수,"
   ]
  },
  {
   "cell_type": "code",
   "execution_count": 16,
   "metadata": {
    "colab": {
     "base_uri": "https://localhost:8080/",
     "height": 166
    },
    "executionInfo": {
     "elapsed": 3,
     "status": "ok",
     "timestamp": 1722471363820,
     "user": {
      "displayName": "Seung Hwan Oh (아코)",
      "userId": "03190881954585654682"
     },
     "user_tz": -540
    },
    "id": "NwhllUeXVG5-",
    "outputId": "51050965-03d0-4760-9900-c3bdf07dad5c"
   },
   "outputs": [
    {
     "data": {
      "text/html": [
       "<pre style=\"white-space:pre;overflow-x:auto;line-height:normal;font-family:Menlo,'DejaVu Sans Mono',consolas,'Courier New',monospace\"><span style=\"font-weight: bold\">Model: \"sequential\"</span>\n",
       "</pre>\n"
      ],
      "text/plain": [
       "\u001b[1mModel: \"sequential\"\u001b[0m\n"
      ]
     },
     "metadata": {},
     "output_type": "display_data"
    },
    {
     "data": {
      "text/html": [
       "<pre style=\"white-space:pre;overflow-x:auto;line-height:normal;font-family:Menlo,'DejaVu Sans Mono',consolas,'Courier New',monospace\">┏━━━━━━━━━━━━━━━━━━━━━━━━━━━━━━━━━┳━━━━━━━━━━━━━━━━━━━━━━━━┳━━━━━━━━━━━━━━━┓\n",
       "┃<span style=\"font-weight: bold\"> Layer (type)                    </span>┃<span style=\"font-weight: bold\"> Output Shape           </span>┃<span style=\"font-weight: bold\">       Param # </span>┃\n",
       "┡━━━━━━━━━━━━━━━━━━━━━━━━━━━━━━━━━╇━━━━━━━━━━━━━━━━━━━━━━━━╇━━━━━━━━━━━━━━━┩\n",
       "│ dense (<span style=\"color: #0087ff; text-decoration-color: #0087ff\">Dense</span>)                   │ (<span style=\"color: #00d7ff; text-decoration-color: #00d7ff\">None</span>, <span style=\"color: #00af00; text-decoration-color: #00af00\">1</span>)              │             <span style=\"color: #00af00; text-decoration-color: #00af00\">2</span> │\n",
       "└─────────────────────────────────┴────────────────────────┴───────────────┘\n",
       "</pre>\n"
      ],
      "text/plain": [
       "┏━━━━━━━━━━━━━━━━━━━━━━━━━━━━━━━━━┳━━━━━━━━━━━━━━━━━━━━━━━━┳━━━━━━━━━━━━━━━┓\n",
       "┃\u001b[1m \u001b[0m\u001b[1mLayer (type)                   \u001b[0m\u001b[1m \u001b[0m┃\u001b[1m \u001b[0m\u001b[1mOutput Shape          \u001b[0m\u001b[1m \u001b[0m┃\u001b[1m \u001b[0m\u001b[1m      Param #\u001b[0m\u001b[1m \u001b[0m┃\n",
       "┡━━━━━━━━━━━━━━━━━━━━━━━━━━━━━━━━━╇━━━━━━━━━━━━━━━━━━━━━━━━╇━━━━━━━━━━━━━━━┩\n",
       "│ dense (\u001b[38;5;33mDense\u001b[0m)                   │ (\u001b[38;5;45mNone\u001b[0m, \u001b[38;5;34m1\u001b[0m)              │             \u001b[38;5;34m2\u001b[0m │\n",
       "└─────────────────────────────────┴────────────────────────┴───────────────┘\n"
      ]
     },
     "metadata": {},
     "output_type": "display_data"
    },
    {
     "data": {
      "text/html": [
       "<pre style=\"white-space:pre;overflow-x:auto;line-height:normal;font-family:Menlo,'DejaVu Sans Mono',consolas,'Courier New',monospace\"><span style=\"font-weight: bold\"> Total params: </span><span style=\"color: #00af00; text-decoration-color: #00af00\">2</span> (8.00 B)\n",
       "</pre>\n"
      ],
      "text/plain": [
       "\u001b[1m Total params: \u001b[0m\u001b[38;5;34m2\u001b[0m (8.00 B)\n"
      ]
     },
     "metadata": {},
     "output_type": "display_data"
    },
    {
     "data": {
      "text/html": [
       "<pre style=\"white-space:pre;overflow-x:auto;line-height:normal;font-family:Menlo,'DejaVu Sans Mono',consolas,'Courier New',monospace\"><span style=\"font-weight: bold\"> Trainable params: </span><span style=\"color: #00af00; text-decoration-color: #00af00\">2</span> (8.00 B)\n",
       "</pre>\n"
      ],
      "text/plain": [
       "\u001b[1m Trainable params: \u001b[0m\u001b[38;5;34m2\u001b[0m (8.00 B)\n"
      ]
     },
     "metadata": {},
     "output_type": "display_data"
    },
    {
     "data": {
      "text/html": [
       "<pre style=\"white-space:pre;overflow-x:auto;line-height:normal;font-family:Menlo,'DejaVu Sans Mono',consolas,'Courier New',monospace\"><span style=\"font-weight: bold\"> Non-trainable params: </span><span style=\"color: #00af00; text-decoration-color: #00af00\">0</span> (0.00 B)\n",
       "</pre>\n"
      ],
      "text/plain": [
       "\u001b[1m Non-trainable params: \u001b[0m\u001b[38;5;34m0\u001b[0m (0.00 B)\n"
      ]
     },
     "metadata": {},
     "output_type": "display_data"
    }
   ],
   "source": [
    "model.summary()"
   ]
  },
  {
   "cell_type": "code",
   "execution_count": 18,
   "metadata": {
    "executionInfo": {
     "elapsed": 2,
     "status": "ok",
     "timestamp": 1722471366121,
     "user": {
      "displayName": "Seung Hwan Oh (아코)",
      "userId": "03190881954585654682"
     },
     "user_tz": -540
    },
    "id": "HdnmojJFVIjJ"
   },
   "outputs": [],
   "source": [
    "model.compile(optimizer='adam', loss='mse', metrics=['mae'])"
   ]
  },
  {
   "cell_type": "code",
   "execution_count": 20,
   "metadata": {
    "colab": {
     "base_uri": "https://localhost:8080/"
    },
    "executionInfo": {
     "elapsed": 125165,
     "status": "ok",
     "timestamp": 1722471492678,
     "user": {
      "displayName": "Seung Hwan Oh (아코)",
      "userId": "03190881954585654682"
     },
     "user_tz": -540
    },
    "id": "2gKrsY1PVOAc",
    "outputId": "498f7a68-4836-4a1e-d2f6-051873406766"
   },
   "outputs": [
    {
     "data": {
      "text/plain": [
       "<keras.src.callbacks.history.History at 0x2069321a480>"
      ]
     },
     "execution_count": 20,
     "metadata": {},
     "output_type": "execute_result"
    }
   ],
   "source": [
    "model.fit(X_train, y_train, epochs=5000, verbose=0)"
   ]
  },
  {
   "cell_type": "code",
   "execution_count": 21,
   "metadata": {
    "colab": {
     "base_uri": "https://localhost:8080/"
    },
    "executionInfo": {
     "elapsed": 11,
     "status": "ok",
     "timestamp": 1722471492678,
     "user": {
      "displayName": "Seung Hwan Oh (아코)",
      "userId": "03190881954585654682"
     },
     "user_tz": -540
    },
    "id": "eipo8CQpVP82",
    "outputId": "52e7a82d-70d5-465f-a106-6b45bdf5eb73"
   },
   "outputs": [
    {
     "data": {
      "text/plain": [
       "[<KerasVariable shape=(1, 1), dtype=float32, path=sequential/dense/kernel>,\n",
       " <KerasVariable shape=(1,), dtype=float32, path=sequential/dense/bias>]"
      ]
     },
     "execution_count": 21,
     "metadata": {},
     "output_type": "execute_result"
    }
   ],
   "source": [
    "model.weights"
   ]
  },
  {
   "cell_type": "code",
   "execution_count": 10,
   "metadata": {
    "colab": {
     "base_uri": "https://localhost:8080/"
    },
    "executionInfo": {
     "elapsed": 9,
     "status": "ok",
     "timestamp": 1722471492678,
     "user": {
      "displayName": "Seung Hwan Oh (아코)",
      "userId": "03190881954585654682"
     },
     "user_tz": -540
    },
    "id": "61eaQbSxyDft",
    "outputId": "3e31ee43-6a9b-44b9-888e-26c20f679e67"
   },
   "outputs": [
    {
     "data": {
      "text/plain": [
       "array([[11],\n",
       "       [12],\n",
       "       [13]])"
      ]
     },
     "execution_count": 10,
     "metadata": {},
     "output_type": "execute_result"
    }
   ],
   "source": [
    "test_x = np.array([11, 12, 13]).reshape(3, 1)\n",
    "test_x"
   ]
  },
  {
   "cell_type": "code",
   "execution_count": 11,
   "metadata": {
    "colab": {
     "base_uri": "https://localhost:8080/"
    },
    "executionInfo": {
     "elapsed": 7,
     "status": "ok",
     "timestamp": 1722471492678,
     "user": {
      "displayName": "Seung Hwan Oh (아코)",
      "userId": "03190881954585654682"
     },
     "user_tz": -540
    },
    "id": "v5Y0ONTIVaUj",
    "outputId": "33745499-17ba-454b-c1cb-cae2409ace7b"
   },
   "outputs": [
    {
     "name": "stdout",
     "output_type": "stream",
     "text": [
      "\u001b[1m1/1\u001b[0m \u001b[32m━━━━━━━━━━━━━━━━━━━━\u001b[0m\u001b[37m\u001b[0m \u001b[1m0s\u001b[0m 89ms/step\n"
     ]
    },
    {
     "data": {
      "text/plain": [
       "array([[11.901844],\n",
       "       [12.893165],\n",
       "       [13.884485]], dtype=float32)"
      ]
     },
     "execution_count": 11,
     "metadata": {},
     "output_type": "execute_result"
    }
   ],
   "source": [
    "model.predict(test_x)"
   ]
  },
  {
   "cell_type": "markdown",
   "metadata": {
    "id": "OaNIN11HM5JW"
   },
   "source": [
    "# MNIST dataset"
   ]
  },
  {
   "cell_type": "code",
   "execution_count": 26,
   "metadata": {
    "colab": {
     "base_uri": "https://localhost:8080/"
    },
    "executionInfo": {
     "elapsed": 480,
     "status": "ok",
     "timestamp": 1722471493153,
     "user": {
      "displayName": "Seung Hwan Oh (아코)",
      "userId": "03190881954585654682"
     },
     "user_tz": -540
    },
    "id": "sOLhbE3IyzNA",
    "outputId": "ad43d72a-0dc7-489d-b96c-42767893411e"
   },
   "outputs": [
    {
     "name": "stdout",
     "output_type": "stream",
     "text": [
      "Downloading data from https://storage.googleapis.com/tensorflow/tf-keras-datasets/mnist.npz\n",
      "\u001b[1m11490434/11490434\u001b[0m \u001b[32m━━━━━━━━━━━━━━━━━━━━\u001b[0m\u001b[37m\u001b[0m \u001b[1m1s\u001b[0m 0us/step\n",
      "train set:  (60000, 28, 28) (60000,)\n",
      "test  set:  (10000, 28, 28) (10000,)\n"
     ]
    }
   ],
   "source": [
    "# MNIST DATA\n",
    "mnist = tf.keras.datasets.mnist\n",
    "\n",
    "(x_train, y_train), (x_test, y_test) = mnist.load_data()\n",
    "\n",
    "print('train set: ', x_train.shape, y_train.shape)\n",
    "print('test  set: ', x_test.shape, y_test.shape)"
   ]
  },
  {
   "cell_type": "code",
   "execution_count": 27,
   "metadata": {
    "colab": {
     "base_uri": "https://localhost:8080/",
     "height": 487
    },
    "executionInfo": {
     "elapsed": 723,
     "status": "ok",
     "timestamp": 1722471493875,
     "user": {
      "displayName": "Seung Hwan Oh (아코)",
      "userId": "03190881954585654682"
     },
     "user_tz": -540
    },
    "id": "FlPCW-rgzOIX",
    "outputId": "ef705669-421b-49ab-be70-ae48061b57cf"
   },
   "outputs": [
    {
     "data": {
      "image/png": "[encoded data removed]",
      "text/plain": [
       "<Figure size 640x480 with 16 Axes>"
      ]
     },
     "metadata": {},
     "output_type": "display_data"
    }
   ],
   "source": [
    "import matplotlib.pyplot as plt\n",
    "\n",
    "fig, axes = plt.subplots(4, 4)\n",
    "for i in range(16):\n",
    "    ax = axes[i//4, i%4]\n",
    "    ax.imshow(x_train[i], cmap='gray')\n",
    "    ax.axis('off')\n",
    "    ax.set_title(str(y_train[i]))\n",
    "plt.tight_layout()\n",
    "plt.show()"
   ]
  },
  {
   "cell_type": "markdown",
   "metadata": {
    "id": "gp8qti9OGwTq"
   },
   "source": [
    "# 전처리"
   ]
  },
  {
   "cell_type": "code",
   "execution_count": 30,
   "metadata": {
    "colab": {
     "base_uri": "https://localhost:8080/"
    },
    "executionInfo": {
     "elapsed": 572,
     "status": "ok",
     "timestamp": 1722471494441,
     "user": {
      "displayName": "Seung Hwan Oh (아코)",
      "userId": "03190881954585654682"
     },
     "user_tz": -540
    },
    "id": "VXu7IfvWNl5W",
    "outputId": "d15d0b12-45aa-4ab9-f7e5-5ddc68deba3c"
   },
   "outputs": [
    {
     "data": {
      "text/plain": [
       "array([[  1, 154, 253,  90,   0],\n",
       "       [  0, 139, 253, 190,   2],\n",
       "       [  0,  11, 190, 253,  70],\n",
       "       [  0,   0,  35, 241, 225],\n",
       "       [  0,   0,   0,  81, 240]], dtype=uint8)"
      ]
     },
     "execution_count": 30,
     "metadata": {},
     "output_type": "execute_result"
    }
   ],
   "source": [
    "x_train[0, 10:15, 10:15]"
   ]
  },
  {
   "cell_type": "code",
   "execution_count": 33,
   "metadata": {
    "colab": {
     "base_uri": "https://localhost:8080/"
    },
    "executionInfo": {
     "elapsed": 14,
     "status": "ok",
     "timestamp": 1722471494441,
     "user": {
      "displayName": "Seung Hwan Oh (아코)",
      "userId": "03190881954585654682"
     },
     "user_tz": -540
    },
    "id": "SCqCX5jVLp-0",
    "outputId": "83f37569-c099-4c68-d630-c82727d3c808"
   },
   "outputs": [
    {
     "name": "stdout",
     "output_type": "stream",
     "text": [
      "최소값: 0, 최대값: 255\n"
     ]
    }
   ],
   "source": [
    "print(f'최소값: {x_train.min()}, 최대값: {x_train.max()}')"
   ]
  },
  {
   "cell_type": "code",
   "execution_count": 35,
   "metadata": {
    "colab": {
     "base_uri": "https://localhost:8080/"
    },
    "executionInfo": {
     "elapsed": 14,
     "status": "ok",
     "timestamp": 1722471494442,
     "user": {
      "displayName": "Seung Hwan Oh (아코)",
      "userId": "03190881954585654682"
     },
     "user_tz": -540
    },
    "id": "i1RT94chPg2a",
    "outputId": "956b9e92-ef02-4cb3-c64e-0f656ebf8246"
   },
   "outputs": [
    {
     "name": "stdout",
     "output_type": "stream",
     "text": [
      "최소값: 0.0, 최대값: 1.0\n"
     ]
    }
   ],
   "source": [
    "# 데이터 정규화\n",
    "x_train = x_train / x_train.max()\n",
    "\n",
    "print(f'최소값: {x_train.min()}, 최대값: {x_train.max()}')"
   ]
  },
  {
   "cell_type": "code",
   "execution_count": 39,
   "metadata": {
    "executionInfo": {
     "elapsed": 13,
     "status": "ok",
     "timestamp": 1722471494442,
     "user": {
      "displayName": "Seung Hwan Oh (아코)",
      "userId": "03190881954585654682"
     },
     "user_tz": -540
    },
    "id": "fsH9m-A8_Qxo"
   },
   "outputs": [],
   "source": [
    "# test 셋 정규화\n",
    "x_test = x_test / 255."
   ]
  },
  {
   "cell_type": "code",
   "execution_count": 41,
   "metadata": {
    "colab": {
     "base_uri": "https://localhost:8080/"
    },
    "executionInfo": {
     "elapsed": 13,
     "status": "ok",
     "timestamp": 1722471494442,
     "user": {
      "displayName": "Seung Hwan Oh (아코)",
      "userId": "03190881954585654682"
     },
     "user_tz": -540
    },
    "id": "c1GGyPvKo4kj",
    "outputId": "7dbf6442-dfc7-4d5d-caa3-b09fb1fed218"
   },
   "outputs": [
    {
     "data": {
      "text/plain": [
       "array([[0.00392157, 0.60392157, 0.99215686, 0.35294118, 0.        ],\n",
       "       [0.        , 0.54509804, 0.99215686, 0.74509804, 0.00784314],\n",
       "       [0.        , 0.04313725, 0.74509804, 0.99215686, 0.2745098 ],\n",
       "       [0.        , 0.        , 0.1372549 , 0.94509804, 0.88235294],\n",
       "       [0.        , 0.        , 0.        , 0.31764706, 0.94117647]])"
      ]
     },
     "execution_count": 41,
     "metadata": {},
     "output_type": "execute_result"
    }
   ],
   "source": [
    "# 변환 후 x_train 배열의 데이터 확인\n",
    "x_train[0, 10:15, 10:15]"
   ]
  },
  {
   "cell_type": "code",
   "execution_count": 61,
   "metadata": {
    "colab": {
     "base_uri": "https://localhost:8080/"
    },
    "executionInfo": {
     "elapsed": 12,
     "status": "ok",
     "timestamp": 1722471494442,
     "user": {
      "displayName": "Seung Hwan Oh (아코)",
      "userId": "03190881954585654682"
     },
     "user_tz": -540
    },
    "id": "UAuybC9_QB33",
    "outputId": "3ff68f49-b9b6-4148-9fdb-25ebad99a8ba"
   },
   "outputs": [
    {
     "name": "stdout",
     "output_type": "stream",
     "text": [
      "(60000, 784)\n"
     ]
    }
   ],
   "source": [
    "x_train = x_train.reshape(60000, -1)\n",
    "print(x_train.shape)\n",
    "sea = np.ndarray([1,2])"
   ]
  },
  {
   "cell_type": "code",
   "execution_count": 20,
   "metadata": {
    "colab": {
     "base_uri": "https://localhost:8080/"
    },
    "executionInfo": {
     "elapsed": 11,
     "status": "ok",
     "timestamp": 1722471494442,
     "user": {
      "displayName": "Seung Hwan Oh (아코)",
      "userId": "03190881954585654682"
     },
     "user_tz": -540
    },
    "id": "bgQRZ5w1QWXZ",
    "outputId": "3353d4b4-5211-4778-9416-a9377b116aaa"
   },
   "outputs": [
    {
     "name": "stdout",
     "output_type": "stream",
     "text": [
      "(10000, 784)\n"
     ]
    }
   ],
   "source": [
    "x_test = x_test.reshape(10000, -1)\n",
    "print(x_test.shape)"
   ]
  },
  {
   "cell_type": "markdown",
   "metadata": {
    "id": "_9eYWJZWP0X7"
   },
   "source": [
    "# Sequential API"
   ]
  },
  {
   "cell_type": "code",
   "execution_count": 21,
   "metadata": {
    "executionInfo": {
     "elapsed": 10,
     "status": "ok",
     "timestamp": 1722471494442,
     "user": {
      "displayName": "Seung Hwan Oh (아코)",
      "userId": "03190881954585654682"
     },
     "user_tz": -540
    },
    "id": "c9Rk9vovKt7f"
   },
   "outputs": [],
   "source": [
    "model = tf.keras.models.Sequential(\n",
    "    [\n",
    "        tf.keras.layers.Dense(32, activation='relu', input_dim=784),\n",
    "        tf.keras.layers.Dense(32, activation='relu'),\n",
    "        tf.keras.layers.Dense(32, activation='relu'),\n",
    "        tf.keras.layers.Dense(32, activation='relu'),\n",
    "        tf.keras.layers.Dense(32, activation='relu'),\n",
    "        tf.keras.layers.Dense(10, activation='softmax')\n",
    "])"
   ]
  },
  {
   "cell_type": "code",
   "execution_count": 22,
   "metadata": {
    "executionInfo": {
     "elapsed": 10,
     "status": "ok",
     "timestamp": 1722471494442,
     "user": {
      "displayName": "Seung Hwan Oh (아코)",
      "userId": "03190881954585654682"
     },
     "user_tz": -540
    },
    "id": "vPmOIO1vP0X7"
   },
   "outputs": [],
   "source": [
    "# List 입력\n",
    "model = Sequential([\n",
    "    Dense(64,activation = 'relu', input_dim=784),\n",
    "    Dense(10,activation = 'softmax')\n",
    "])\n",
    "\n",
    "# # add 함수\n",
    "# model = Sequential()\n",
    "# model.add(Dense(64,activation = 'relu', input_shape=(784,)))\n",
    "# model.add(Dense(10,activation = 'softmax'))"
   ]
  },
  {
   "cell_type": "markdown",
   "metadata": {
    "id": "eGTto99LQ97A"
   },
   "source": [
    "# 입력 레이어"
   ]
  },
  {
   "cell_type": "code",
   "execution_count": 23,
   "metadata": {
    "executionInfo": {
     "elapsed": 9,
     "status": "ok",
     "timestamp": 1722471494442,
     "user": {
      "displayName": "Seung Hwan Oh (아코)",
      "userId": "03190881954585654682"
     },
     "user_tz": -540
    },
    "id": "JBRBKrw7Pumc"
   },
   "outputs": [],
   "source": [
    "model = Sequential([\n",
    "    Dense(64,activation = 'relu', input_shape=(784,)),\n",
    "    Dense(10,activation = 'softmax')\n",
    "])"
   ]
  },
  {
   "cell_type": "markdown",
   "metadata": {
    "id": "6aY21B8kG_2S"
   },
   "source": [
    "# 활성화 함수"
   ]
  },
  {
   "cell_type": "code",
   "execution_count": 24,
   "metadata": {
    "colab": {
     "base_uri": "https://localhost:8080/"
    },
    "executionInfo": {
     "elapsed": 9,
     "status": "ok",
     "timestamp": 1722471494442,
     "user": {
      "displayName": "Seung Hwan Oh (아코)",
      "userId": "03190881954585654682"
     },
     "user_tz": -540
    },
    "id": "lx2tLfOBFiJe",
    "outputId": "bdca379e-996f-4de0-ad32-83b92a445794"
   },
   "outputs": [
    {
     "data": {
      "text/plain": [
       "<Dense name=dense_11, built=False>"
      ]
     },
     "execution_count": 24,
     "metadata": {},
     "output_type": "execute_result"
    }
   ],
   "source": [
    "# Dense 레이어에 relu 활성화 함수를 적용\n",
    "tf.keras.layers.Dense(128, activation='relu')"
   ]
  },
  {
   "cell_type": "code",
   "execution_count": 25,
   "metadata": {
    "executionInfo": {
     "elapsed": 8,
     "status": "ok",
     "timestamp": 1722471494442,
     "user": {
      "displayName": "Seung Hwan Oh (아코)",
      "userId": "03190881954585654682"
     },
     "user_tz": -540
    },
    "id": "Wo7sI3h1FkoS"
   },
   "outputs": [],
   "source": [
    "# Activation 레이어에 relu 활성화 함수를 적용\n",
    "model = tf.keras.Sequential([\n",
    "    tf.keras.layers.Dense(128),\n",
    "    tf.keras.layers.Activation('relu')\n",
    "])"
   ]
  },
  {
   "cell_type": "markdown",
   "metadata": {
    "id": "qBHnueY_HF3Q"
   },
   "source": [
    "# 출력 레이어"
   ]
  },
  {
   "cell_type": "code",
   "execution_count": 26,
   "metadata": {
    "colab": {
     "base_uri": "https://localhost:8080/"
    },
    "executionInfo": {
     "elapsed": 8,
     "status": "ok",
     "timestamp": 1722471494442,
     "user": {
      "displayName": "Seung Hwan Oh (아코)",
      "userId": "03190881954585654682"
     },
     "user_tz": -540
    },
    "id": "iwTtnSrZHN1P",
    "outputId": "64352214-e923-40e4-b8f5-bf2a0c0247a3"
   },
   "outputs": [
    {
     "data": {
      "text/plain": [
       "<Dense name=dense_15, built=False>"
      ]
     },
     "execution_count": 26,
     "metadata": {},
     "output_type": "execute_result"
    }
   ],
   "source": [
    "# 회귀 분석: 출력층 노드 = 1인 경우\n",
    "tf.keras.layers.Dense(1, activation='linear')\n",
    "\n",
    "# 분류 분석: 출력층 노드 = 1인 경우, sigmoid\n",
    "tf.keras.layers.Dense(1, activation='sigmoid')\n",
    "\n",
    "# 분류 분석: 출력층 노드 = 2개 이상인 경우, softmax\n",
    "tf.keras.layers.Dense(10, activation='softmax')"
   ]
  },
  {
   "cell_type": "markdown",
   "metadata": {
    "id": "doMnRrFcHQc4"
   },
   "source": [
    "# 손실함수"
   ]
  },
  {
   "cell_type": "markdown",
   "metadata": {
    "id": "JiYN2vjgHeEq"
   },
   "source": [
    "출력 노드가 1개, sigmoid 활성화 함수를 적용한 경우"
   ]
  },
  {
   "cell_type": "code",
   "execution_count": 27,
   "metadata": {
    "executionInfo": {
     "elapsed": 7,
     "status": "ok",
     "timestamp": 1722471494442,
     "user": {
      "displayName": "Seung Hwan Oh (아코)",
      "userId": "03190881954585654682"
     },
     "user_tz": -540
    },
    "id": "NxmwuCJoRLmn"
   },
   "outputs": [],
   "source": [
    "# 회귀 분석\n",
    "model.compile(loss='mse')"
   ]
  },
  {
   "cell_type": "code",
   "execution_count": 28,
   "metadata": {
    "executionInfo": {
     "elapsed": 7,
     "status": "ok",
     "timestamp": 1722471494442,
     "user": {
      "displayName": "Seung Hwan Oh (아코)",
      "userId": "03190881954585654682"
     },
     "user_tz": -540
    },
    "id": "QjozfL6dHUOr"
   },
   "outputs": [],
   "source": [
    "# 이진 분류 (출력 노드 개수 = 1, sigmoid 인 경우)\n",
    "model.compile(loss='binary_crossentropy')"
   ]
  },
  {
   "cell_type": "code",
   "execution_count": 29,
   "metadata": {
    "executionInfo": {
     "elapsed": 7,
     "status": "ok",
     "timestamp": 1722471494442,
     "user": {
      "displayName": "Seung Hwan Oh (아코)",
      "userId": "03190881954585654682"
     },
     "user_tz": -540
    },
    "id": "dlR8GJPBHZJn"
   },
   "outputs": [],
   "source": [
    "# y가 원 핫 벡터인 경우\n",
    "# [0., 0., 0., 0., 0., 1., 0., 0., 0., 0.]\n",
    "model.compile(loss='categorical_crossentropy')\n",
    "\n",
    "# y가 원 핫 벡터가 아닌경우\n",
    "# [5]\n",
    "model.compile(loss='sparse_categorical_crossentropy')"
   ]
  },
  {
   "cell_type": "markdown",
   "metadata": {
    "id": "bxQB97_bHpWr"
   },
   "source": [
    "# 옵티마이저"
   ]
  },
  {
   "cell_type": "code",
   "execution_count": 31,
   "metadata": {
    "executionInfo": {
     "elapsed": 616,
     "status": "ok",
     "timestamp": 1722471529402,
     "user": {
      "displayName": "Seung Hwan Oh (아코)",
      "userId": "03190881954585654682"
     },
     "user_tz": -540
    },
    "id": "OEKsPjGqHuDJ"
   },
   "outputs": [],
   "source": [
    "# 클래스 인스턴스로 지정\n",
    "adam = tf.keras.optimizers.Adam(learning_rate=0.001)\n",
    "model.compile(optimizer=adam)\n",
    "\n",
    "# 문자열로 지정\n",
    "model.compile(optimizer='adam')"
   ]
  },
  {
   "cell_type": "markdown",
   "metadata": {
    "id": "3GuWMSnfHwZH"
   },
   "source": [
    "# 평가지표"
   ]
  },
  {
   "cell_type": "code",
   "execution_count": 32,
   "metadata": {
    "executionInfo": {
     "elapsed": 321,
     "status": "ok",
     "timestamp": 1722471534669,
     "user": {
      "displayName": "Seung Hwan Oh (아코)",
      "userId": "03190881954585654682"
     },
     "user_tz": -540
    },
    "id": "7RHA_mrdQKfi"
   },
   "outputs": [],
   "source": [
    "# 클래스 인스턴스로 지정\n",
    "acc = tf.keras.metrics.SparseCategoricalAccuracy()\n",
    "\n",
    "model.compile(optimizer='adam',\n",
    "              loss='sparse_categorical_crossentropy',\n",
    "              metrics=[acc])"
   ]
  },
  {
   "cell_type": "code",
   "execution_count": 33,
   "metadata": {
    "executionInfo": {
     "elapsed": 491,
     "status": "ok",
     "timestamp": 1722471536879,
     "user": {
      "displayName": "Seung Hwan Oh (아코)",
      "userId": "03190881954585654682"
     },
     "user_tz": -540
    },
    "id": "rejCiupVJClm"
   },
   "outputs": [],
   "source": [
    "# 문자열로 지정\n",
    "model.compile(optimizer='adam',\n",
    "              loss='sparse_categorical_crossentropy',\n",
    "              metrics=['accuracy'])"
   ]
  },
  {
   "cell_type": "markdown",
   "metadata": {
    "id": "UGTI05CmH2mF"
   },
   "source": [
    "# 훈련"
   ]
  },
  {
   "cell_type": "code",
   "execution_count": 34,
   "metadata": {
    "colab": {
     "base_uri": "https://localhost:8080/"
    },
    "executionInfo": {
     "elapsed": 23544,
     "status": "ok",
     "timestamp": 1722471561901,
     "user": {
      "displayName": "Seung Hwan Oh (아코)",
      "userId": "03190881954585654682"
     },
     "user_tz": -540
    },
    "id": "uPSQHPMqQZJM",
    "outputId": "4636c884-851f-4248-c71d-3cb1d9abbdc5"
   },
   "outputs": [
    {
     "name": "stdout",
     "output_type": "stream",
     "text": [
      "Epoch 1/5\n",
      "\u001b[1m1875/1875\u001b[0m \u001b[32m━━━━━━━━━━━━━━━━━━━━\u001b[0m\u001b[37m\u001b[0m \u001b[1m6s\u001b[0m 2ms/step - accuracy: 0.2377 - loss: 4.4992 - val_accuracy: 0.1033 - val_loss: 4.8290\n",
      "Epoch 2/5\n",
      "\u001b[1m1875/1875\u001b[0m \u001b[32m━━━━━━━━━━━━━━━━━━━━\u001b[0m\u001b[37m\u001b[0m \u001b[1m3s\u001b[0m 2ms/step - accuracy: 0.1089 - loss: 4.7980 - val_accuracy: 0.1051 - val_loss: 4.8203\n",
      "Epoch 3/5\n",
      "\u001b[1m1875/1875\u001b[0m \u001b[32m━━━━━━━━━━━━━━━━━━━━\u001b[0m\u001b[37m\u001b[0m \u001b[1m4s\u001b[0m 2ms/step - accuracy: 0.1276 - loss: 4.7146 - val_accuracy: 0.1817 - val_loss: 4.4513\n",
      "Epoch 4/5\n",
      "\u001b[1m1875/1875\u001b[0m \u001b[32m━━━━━━━━━━━━━━━━━━━━\u001b[0m\u001b[37m\u001b[0m \u001b[1m4s\u001b[0m 2ms/step - accuracy: 0.1743 - loss: 4.4838 - val_accuracy: 0.1841 - val_loss: 4.4402\n",
      "Epoch 5/5\n",
      "\u001b[1m1875/1875\u001b[0m \u001b[32m━━━━━━━━━━━━━━━━━━━━\u001b[0m\u001b[37m\u001b[0m \u001b[1m3s\u001b[0m 2ms/step - accuracy: 0.1839 - loss: 4.4566 - val_accuracy: 0.1721 - val_loss: 4.4979\n"
     ]
    },
    {
     "data": {
      "text/plain": [
       "<keras.src.callbacks.history.History at 0x7cc5601c53f0>"
      ]
     },
     "execution_count": 34,
     "metadata": {},
     "output_type": "execute_result"
    }
   ],
   "source": [
    "# 훈련\n",
    "model.fit(x_train, y_train,\n",
    "          validation_data=(x_test, y_test),\n",
    "          epochs=5,\n",
    "          )"
   ]
  },
  {
   "cell_type": "markdown",
   "metadata": {
    "id": "4SCSXzvzH7i1"
   },
   "source": [
    "# 평가"
   ]
  },
  {
   "cell_type": "code",
   "execution_count": 35,
   "metadata": {
    "colab": {
     "base_uri": "https://localhost:8080/"
    },
    "executionInfo": {
     "elapsed": 481,
     "status": "ok",
     "timestamp": 1722471562378,
     "user": {
      "displayName": "Seung Hwan Oh (아코)",
      "userId": "03190881954585654682"
     },
     "user_tz": -540
    },
    "id": "e_g5rz5cIdNn",
    "outputId": "f07e248e-ef41-4161-8c45-8d00b252f724"
   },
   "outputs": [
    {
     "name": "stdout",
     "output_type": "stream",
     "text": [
      "\u001b[1m313/313\u001b[0m \u001b[32m━━━━━━━━━━━━━━━━━━━━\u001b[0m\u001b[37m\u001b[0m \u001b[1m1s\u001b[0m 2ms/step - accuracy: 0.1832 - loss: 4.4186\n",
      "0.1720999926328659\n"
     ]
    }
   ],
   "source": [
    "test_loss, test_acc = model.evaluate(x_test,  y_test)\n",
    "print(test_acc)"
   ]
  },
  {
   "cell_type": "markdown",
   "metadata": {
    "id": "X3mnkoidH-kW"
   },
   "source": [
    "# 추론"
   ]
  },
  {
   "cell_type": "code",
   "execution_count": 36,
   "metadata": {
    "colab": {
     "base_uri": "https://localhost:8080/"
    },
    "executionInfo": {
     "elapsed": 1508,
     "status": "ok",
     "timestamp": 1722471563884,
     "user": {
      "displayName": "Seung Hwan Oh (아코)",
      "userId": "03190881954585654682"
     },
     "user_tz": -540
    },
    "id": "PzxdjDexIdTz",
    "outputId": "14d302af-92c8-43bf-941f-eb6c477d914a"
   },
   "outputs": [
    {
     "name": "stdout",
     "output_type": "stream",
     "text": [
      "\u001b[1m313/313\u001b[0m \u001b[32m━━━━━━━━━━━━━━━━━━━━\u001b[0m\u001b[37m\u001b[0m \u001b[1m1s\u001b[0m 2ms/step\n"
     ]
    }
   ],
   "source": [
    "predictions = model.predict(x_test)"
   ]
  },
  {
   "cell_type": "code",
   "execution_count": 37,
   "metadata": {
    "colab": {
     "base_uri": "https://localhost:8080/"
    },
    "executionInfo": {
     "elapsed": 7,
     "status": "ok",
     "timestamp": 1722471563884,
     "user": {
      "displayName": "Seung Hwan Oh (아코)",
      "userId": "03190881954585654682"
     },
     "user_tz": -540
    },
    "id": "RUz2XXCz98ia",
    "outputId": "4f4dcfca-b1ac-4690-e9e7-4a9bd632e8b1"
   },
   "outputs": [
    {
     "data": {
      "text/plain": [
       "array([0., 0., 0., 0., 0., 0., 0., 0., 0., 0., 0., 0., 0., 0., 0., 0., 0.,\n",
       "       0., 0., 0., 0., 0., 0., 0., 0., 0., 0., 0., 0., 0., 0., 0., 0., 0.,\n",
       "       0., 0., 0., 0., 0., 0., 0., 0., 0., 0., 0., 0., 0., 0., 0., 0., 0.,\n",
       "       0., 0., 0., 0., 0., 0., 0., 0., 0., 0., 0., 0., 0., 0., 0., 0., 0.,\n",
       "       0., 0., 0., 0., 0., 0., 0., 0., 0., 0., 0., 0., 0., 0., 0., 0., 0.,\n",
       "       0., 0., 0., 0., 0., 0., 0., 0., 0., 0., 0., 0., 0., 0., 0., 0., 0.,\n",
       "       0., 0., 0., 0., 0., 0., 0., 0., 0., 0., 0., 0., 0., 0., 0., 0., 0.,\n",
       "       0., 0., 0., 0., 0., 0., 0., 0., 0.], dtype=float32)"
      ]
     },
     "execution_count": 37,
     "metadata": {},
     "output_type": "execute_result"
    }
   ],
   "source": [
    "predictions[0]"
   ]
  },
  {
   "cell_type": "code",
   "execution_count": 38,
   "metadata": {
    "colab": {
     "base_uri": "https://localhost:8080/"
    },
    "executionInfo": {
     "elapsed": 5,
     "status": "ok",
     "timestamp": 1722471563884,
     "user": {
      "displayName": "Seung Hwan Oh (아코)",
      "userId": "03190881954585654682"
     },
     "user_tz": -540
    },
    "id": "5_GEF4BuIdYm",
    "outputId": "bebdf381-ef8d-458f-d47f-62de61825ca6"
   },
   "outputs": [
    {
     "name": "stdout",
     "output_type": "stream",
     "text": [
      "0\n",
      "[0 0 1 0 0 1 0 0 0 0]\n"
     ]
    }
   ],
   "source": [
    "import numpy as np\n",
    "\n",
    "# 0번 index에 대한 예측 클래스 출력\n",
    "print(np.argmax(predictions[0]))\n",
    "\n",
    "# 첫 10개 index에 대한 예측 클래스 출력\n",
    "print(np.argmax(predictions[:10], axis=1))"
   ]
  },
  {
   "cell_type": "code",
   "execution_count": 38,
   "metadata": {
    "executionInfo": {
     "elapsed": 2,
     "status": "ok",
     "timestamp": 1722471563884,
     "user": {
      "displayName": "Seung Hwan Oh (아코)",
      "userId": "03190881954585654682"
     },
     "user_tz": -540
    },
    "id": "TwFxb4P7S_sd"
   },
   "outputs": [],
   "source": []
  }
 ],
 "metadata": {
  "accelerator": "GPU",
  "colab": {
   "provenance": []
  },
  "gpuClass": "standard",
  "kernelspec": {
   "display_name": "Python 3 (ipykernel)",
   "language": "python",
   "name": "python3"
  },
  "language_info": {
   "codemirror_mode": {
    "name": "ipython",
    "version": 3
   },
   "file_extension": ".py",
   "mimetype": "text/x-python",
   "name": "python",
   "nbconvert_exporter": "python",
   "pygments_lexer": "ipython3",
   "version": "3.12.4"
  }
 },
 "nbformat": 4,
 "nbformat_minor": 4
}
